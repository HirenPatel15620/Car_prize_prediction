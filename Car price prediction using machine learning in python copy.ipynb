{
 "cells": [
  {
   "cell_type": "markdown",
   "id": "c49b49f4",
   "metadata": {},
   "source": [
    "# Car price prediction using machine learning in python"
   ]
  },
  {
   "cell_type": "code",
   "execution_count": 1,
   "id": "be1865f4",
   "metadata": {},
   "outputs": [
    {
     "name": "stdout",
     "output_type": "stream",
     "text": [
      "Shape before deleting duplicate values: (1436, 10)\n",
      "Shape After deleting duplicate values: (1435, 10)\n"
     ]
    },
    {
     "data": {
      "text/html": [
       "<div>\n",
       "<style scoped>\n",
       "    .dataframe tbody tr th:only-of-type {\n",
       "        vertical-align: middle;\n",
       "    }\n",
       "\n",
       "    .dataframe tbody tr th {\n",
       "        vertical-align: top;\n",
       "    }\n",
       "\n",
       "    .dataframe thead th {\n",
       "        text-align: right;\n",
       "    }\n",
       "</style>\n",
       "<table border=\"1\" class=\"dataframe\">\n",
       "  <thead>\n",
       "    <tr style=\"text-align: right;\">\n",
       "      <th></th>\n",
       "      <th>Price</th>\n",
       "      <th>Age</th>\n",
       "      <th>KM</th>\n",
       "      <th>FuelType</th>\n",
       "      <th>HP</th>\n",
       "      <th>MetColor</th>\n",
       "      <th>Automatic</th>\n",
       "      <th>CC</th>\n",
       "      <th>Doors</th>\n",
       "      <th>Weight</th>\n",
       "    </tr>\n",
       "  </thead>\n",
       "  <tbody>\n",
       "    <tr>\n",
       "      <th>0</th>\n",
       "      <td>13500</td>\n",
       "      <td>23.0</td>\n",
       "      <td>46986</td>\n",
       "      <td>Diesel</td>\n",
       "      <td>90</td>\n",
       "      <td>1</td>\n",
       "      <td>0</td>\n",
       "      <td>2000.0</td>\n",
       "      <td>3</td>\n",
       "      <td>1165.0</td>\n",
       "    </tr>\n",
       "    <tr>\n",
       "      <th>1</th>\n",
       "      <td>13750</td>\n",
       "      <td>23.0</td>\n",
       "      <td>72937</td>\n",
       "      <td>Diesel</td>\n",
       "      <td>90</td>\n",
       "      <td>1</td>\n",
       "      <td>0</td>\n",
       "      <td>2000.0</td>\n",
       "      <td>3</td>\n",
       "      <td>1165.0</td>\n",
       "    </tr>\n",
       "    <tr>\n",
       "      <th>2</th>\n",
       "      <td>13950</td>\n",
       "      <td>24.0</td>\n",
       "      <td>41711</td>\n",
       "      <td>Diesel</td>\n",
       "      <td>90</td>\n",
       "      <td>1</td>\n",
       "      <td>0</td>\n",
       "      <td>2000.0</td>\n",
       "      <td>3</td>\n",
       "      <td>1165.0</td>\n",
       "    </tr>\n",
       "    <tr>\n",
       "      <th>3</th>\n",
       "      <td>14950</td>\n",
       "      <td>26.0</td>\n",
       "      <td>48000</td>\n",
       "      <td>Diesel</td>\n",
       "      <td>90</td>\n",
       "      <td>0</td>\n",
       "      <td>0</td>\n",
       "      <td>2000.0</td>\n",
       "      <td>3</td>\n",
       "      <td>1165.0</td>\n",
       "    </tr>\n",
       "    <tr>\n",
       "      <th>4</th>\n",
       "      <td>13750</td>\n",
       "      <td>30.0</td>\n",
       "      <td>38500</td>\n",
       "      <td>Diesel</td>\n",
       "      <td>90</td>\n",
       "      <td>0</td>\n",
       "      <td>0</td>\n",
       "      <td>2000.0</td>\n",
       "      <td>3</td>\n",
       "      <td>1170.0</td>\n",
       "    </tr>\n",
       "    <tr>\n",
       "      <th>5</th>\n",
       "      <td>12950</td>\n",
       "      <td>32.0</td>\n",
       "      <td>61000</td>\n",
       "      <td>Diesel</td>\n",
       "      <td>90</td>\n",
       "      <td>0</td>\n",
       "      <td>0</td>\n",
       "      <td>2000.0</td>\n",
       "      <td>3</td>\n",
       "      <td>1170.0</td>\n",
       "    </tr>\n",
       "    <tr>\n",
       "      <th>6</th>\n",
       "      <td>16900</td>\n",
       "      <td>27.0</td>\n",
       "      <td>94612</td>\n",
       "      <td>Diesel</td>\n",
       "      <td>90</td>\n",
       "      <td>1</td>\n",
       "      <td>0</td>\n",
       "      <td>2000.0</td>\n",
       "      <td>3</td>\n",
       "      <td>1245.0</td>\n",
       "    </tr>\n",
       "    <tr>\n",
       "      <th>7</th>\n",
       "      <td>18600</td>\n",
       "      <td>30.0</td>\n",
       "      <td>75889</td>\n",
       "      <td>Diesel</td>\n",
       "      <td>90</td>\n",
       "      <td>1</td>\n",
       "      <td>0</td>\n",
       "      <td>2000.0</td>\n",
       "      <td>3</td>\n",
       "      <td>1245.0</td>\n",
       "    </tr>\n",
       "    <tr>\n",
       "      <th>8</th>\n",
       "      <td>21500</td>\n",
       "      <td>27.0</td>\n",
       "      <td>19700</td>\n",
       "      <td>Petrol</td>\n",
       "      <td>192</td>\n",
       "      <td>0</td>\n",
       "      <td>0</td>\n",
       "      <td>1800.0</td>\n",
       "      <td>3</td>\n",
       "      <td>1185.0</td>\n",
       "    </tr>\n",
       "    <tr>\n",
       "      <th>9</th>\n",
       "      <td>12950</td>\n",
       "      <td>23.0</td>\n",
       "      <td>71138</td>\n",
       "      <td>Diesel</td>\n",
       "      <td>69</td>\n",
       "      <td>0</td>\n",
       "      <td>0</td>\n",
       "      <td>1900.0</td>\n",
       "      <td>3</td>\n",
       "      <td>1105.0</td>\n",
       "    </tr>\n",
       "  </tbody>\n",
       "</table>\n",
       "</div>"
      ],
      "text/plain": [
       "   Price   Age     KM FuelType   HP  MetColor  Automatic      CC  Doors  \\\n",
       "0  13500  23.0  46986   Diesel   90         1          0  2000.0      3   \n",
       "1  13750  23.0  72937   Diesel   90         1          0  2000.0      3   \n",
       "2  13950  24.0  41711   Diesel   90         1          0  2000.0      3   \n",
       "3  14950  26.0  48000   Diesel   90         0          0  2000.0      3   \n",
       "4  13750  30.0  38500   Diesel   90         0          0  2000.0      3   \n",
       "5  12950  32.0  61000   Diesel   90         0          0  2000.0      3   \n",
       "6  16900  27.0  94612   Diesel   90         1          0  2000.0      3   \n",
       "7  18600  30.0  75889   Diesel   90         1          0  2000.0      3   \n",
       "8  21500  27.0  19700   Petrol  192         0          0  1800.0      3   \n",
       "9  12950  23.0  71138   Diesel   69         0          0  1900.0      3   \n",
       "\n",
       "   Weight  \n",
       "0  1165.0  \n",
       "1  1165.0  \n",
       "2  1165.0  \n",
       "3  1165.0  \n",
       "4  1170.0  \n",
       "5  1170.0  \n",
       "6  1245.0  \n",
       "7  1245.0  \n",
       "8  1185.0  \n",
       "9  1105.0  "
      ]
     },
     "execution_count": 1,
     "metadata": {},
     "output_type": "execute_result"
    }
   ],
   "source": [
    "# Reading the dataset\n",
    "import pandas as pd\n",
    "import numpy as np\n",
    "CarPricesData=pd.read_csv('CarPricesData.csv', encoding='latin')\n",
    "print('Shape before deleting duplicate values:', CarPricesData.shape)\n",
    "\n",
    "# Removing duplicate rows if any\n",
    "CarPricesData=CarPricesData.drop_duplicates()\n",
    "print('Shape After deleting duplicate values:', CarPricesData.shape)\n",
    "\n",
    "# Printing sample data\n",
    "# Start observing the Quantitative/Categorical/Qualitative variables\n",
    "CarPricesData.head(10)"
   ]
  },
  {
   "cell_type": "code",
   "execution_count": 2,
   "id": "2921dd72",
   "metadata": {},
   "outputs": [
    {
     "data": {
      "text/html": [
       "<div>\n",
       "<style scoped>\n",
       "    .dataframe tbody tr th:only-of-type {\n",
       "        vertical-align: middle;\n",
       "    }\n",
       "\n",
       "    .dataframe tbody tr th {\n",
       "        vertical-align: top;\n",
       "    }\n",
       "\n",
       "    .dataframe thead th {\n",
       "        text-align: right;\n",
       "    }\n",
       "</style>\n",
       "<table border=\"1\" class=\"dataframe\">\n",
       "  <thead>\n",
       "    <tr style=\"text-align: right;\">\n",
       "      <th></th>\n",
       "      <th>Price</th>\n",
       "      <th>Age</th>\n",
       "      <th>KM</th>\n",
       "      <th>FuelType</th>\n",
       "      <th>HP</th>\n",
       "      <th>MetColor</th>\n",
       "      <th>Automatic</th>\n",
       "      <th>CC</th>\n",
       "      <th>Doors</th>\n",
       "      <th>Weight</th>\n",
       "    </tr>\n",
       "  </thead>\n",
       "  <tbody>\n",
       "    <tr>\n",
       "      <th>0</th>\n",
       "      <td>13500</td>\n",
       "      <td>23.0</td>\n",
       "      <td>46986</td>\n",
       "      <td>Diesel</td>\n",
       "      <td>90</td>\n",
       "      <td>1</td>\n",
       "      <td>0</td>\n",
       "      <td>2000.0</td>\n",
       "      <td>3</td>\n",
       "      <td>1165.0</td>\n",
       "    </tr>\n",
       "    <tr>\n",
       "      <th>1</th>\n",
       "      <td>13750</td>\n",
       "      <td>23.0</td>\n",
       "      <td>72937</td>\n",
       "      <td>Diesel</td>\n",
       "      <td>90</td>\n",
       "      <td>1</td>\n",
       "      <td>0</td>\n",
       "      <td>2000.0</td>\n",
       "      <td>3</td>\n",
       "      <td>1165.0</td>\n",
       "    </tr>\n",
       "    <tr>\n",
       "      <th>2</th>\n",
       "      <td>13950</td>\n",
       "      <td>24.0</td>\n",
       "      <td>41711</td>\n",
       "      <td>Diesel</td>\n",
       "      <td>90</td>\n",
       "      <td>1</td>\n",
       "      <td>0</td>\n",
       "      <td>2000.0</td>\n",
       "      <td>3</td>\n",
       "      <td>1165.0</td>\n",
       "    </tr>\n",
       "    <tr>\n",
       "      <th>3</th>\n",
       "      <td>14950</td>\n",
       "      <td>26.0</td>\n",
       "      <td>48000</td>\n",
       "      <td>Diesel</td>\n",
       "      <td>90</td>\n",
       "      <td>0</td>\n",
       "      <td>0</td>\n",
       "      <td>2000.0</td>\n",
       "      <td>3</td>\n",
       "      <td>1165.0</td>\n",
       "    </tr>\n",
       "    <tr>\n",
       "      <th>4</th>\n",
       "      <td>13750</td>\n",
       "      <td>30.0</td>\n",
       "      <td>38500</td>\n",
       "      <td>Diesel</td>\n",
       "      <td>90</td>\n",
       "      <td>0</td>\n",
       "      <td>0</td>\n",
       "      <td>2000.0</td>\n",
       "      <td>3</td>\n",
       "      <td>1170.0</td>\n",
       "    </tr>\n",
       "  </tbody>\n",
       "</table>\n",
       "</div>"
      ],
      "text/plain": [
       "   Price   Age     KM FuelType  HP  MetColor  Automatic      CC  Doors  Weight\n",
       "0  13500  23.0  46986   Diesel  90         1          0  2000.0      3  1165.0\n",
       "1  13750  23.0  72937   Diesel  90         1          0  2000.0      3  1165.0\n",
       "2  13950  24.0  41711   Diesel  90         1          0  2000.0      3  1165.0\n",
       "3  14950  26.0  48000   Diesel  90         0          0  2000.0      3  1165.0\n",
       "4  13750  30.0  38500   Diesel  90         0          0  2000.0      3  1170.0"
      ]
     },
     "execution_count": 2,
     "metadata": {},
     "output_type": "execute_result"
    }
   ],
   "source": [
    "# Looking at sample rows in the data\n",
    "CarPricesData.head()"
   ]
  },
  {
   "cell_type": "code",
   "execution_count": 3,
   "id": "1d03605b",
   "metadata": {},
   "outputs": [
    {
     "name": "stdout",
     "output_type": "stream",
     "text": [
      "<class 'pandas.core.frame.DataFrame'>\n",
      "Int64Index: 1435 entries, 0 to 1435\n",
      "Data columns (total 10 columns):\n",
      " #   Column     Non-Null Count  Dtype  \n",
      "---  ------     --------------  -----  \n",
      " 0   Price      1435 non-null   int64  \n",
      " 1   Age        1433 non-null   float64\n",
      " 2   KM         1435 non-null   int64  \n",
      " 3   FuelType   1431 non-null   object \n",
      " 4   HP         1435 non-null   int64  \n",
      " 5   MetColor   1435 non-null   int64  \n",
      " 6   Automatic  1435 non-null   int64  \n",
      " 7   CC         1433 non-null   float64\n",
      " 8   Doors      1435 non-null   int64  \n",
      " 9   Weight     1433 non-null   float64\n",
      "dtypes: float64(3), int64(6), object(1)\n",
      "memory usage: 123.3+ KB\n"
     ]
    }
   ],
   "source": [
    "# Observing the summarized information of data\n",
    "# Data types, Missing values based on number of non-null values Vs total rows etc.\n",
    "# Remove those variables from data which have too many missing values (Missing Values > 30%)\n",
    "# Remove Qualitative variables which cannot be used in Machine Learning\n",
    "CarPricesData.info()"
   ]
  },
  {
   "cell_type": "code",
   "execution_count": 4,
   "id": "006fe237",
   "metadata": {},
   "outputs": [
    {
     "data": {
      "text/html": [
       "<div>\n",
       "<style scoped>\n",
       "    .dataframe tbody tr th:only-of-type {\n",
       "        vertical-align: middle;\n",
       "    }\n",
       "\n",
       "    .dataframe tbody tr th {\n",
       "        vertical-align: top;\n",
       "    }\n",
       "\n",
       "    .dataframe thead th {\n",
       "        text-align: right;\n",
       "    }\n",
       "</style>\n",
       "<table border=\"1\" class=\"dataframe\">\n",
       "  <thead>\n",
       "    <tr style=\"text-align: right;\">\n",
       "      <th></th>\n",
       "      <th>Price</th>\n",
       "      <th>Age</th>\n",
       "      <th>KM</th>\n",
       "      <th>FuelType</th>\n",
       "      <th>HP</th>\n",
       "      <th>MetColor</th>\n",
       "      <th>Automatic</th>\n",
       "      <th>CC</th>\n",
       "      <th>Doors</th>\n",
       "      <th>Weight</th>\n",
       "    </tr>\n",
       "  </thead>\n",
       "  <tbody>\n",
       "    <tr>\n",
       "      <th>count</th>\n",
       "      <td>1435.000000</td>\n",
       "      <td>1433.000000</td>\n",
       "      <td>1435.000000</td>\n",
       "      <td>1431</td>\n",
       "      <td>1435.000000</td>\n",
       "      <td>1435.000000</td>\n",
       "      <td>1435.000000</td>\n",
       "      <td>1433.000000</td>\n",
       "      <td>1435.000000</td>\n",
       "      <td>1433.000000</td>\n",
       "    </tr>\n",
       "    <tr>\n",
       "      <th>unique</th>\n",
       "      <td>NaN</td>\n",
       "      <td>NaN</td>\n",
       "      <td>NaN</td>\n",
       "      <td>3</td>\n",
       "      <td>NaN</td>\n",
       "      <td>NaN</td>\n",
       "      <td>NaN</td>\n",
       "      <td>NaN</td>\n",
       "      <td>NaN</td>\n",
       "      <td>NaN</td>\n",
       "    </tr>\n",
       "    <tr>\n",
       "      <th>top</th>\n",
       "      <td>NaN</td>\n",
       "      <td>NaN</td>\n",
       "      <td>NaN</td>\n",
       "      <td>Petrol</td>\n",
       "      <td>NaN</td>\n",
       "      <td>NaN</td>\n",
       "      <td>NaN</td>\n",
       "      <td>NaN</td>\n",
       "      <td>NaN</td>\n",
       "      <td>NaN</td>\n",
       "    </tr>\n",
       "    <tr>\n",
       "      <th>freq</th>\n",
       "      <td>NaN</td>\n",
       "      <td>NaN</td>\n",
       "      <td>NaN</td>\n",
       "      <td>1260</td>\n",
       "      <td>NaN</td>\n",
       "      <td>NaN</td>\n",
       "      <td>NaN</td>\n",
       "      <td>NaN</td>\n",
       "      <td>NaN</td>\n",
       "      <td>NaN</td>\n",
       "    </tr>\n",
       "    <tr>\n",
       "      <th>mean</th>\n",
       "      <td>10720.915679</td>\n",
       "      <td>56.020237</td>\n",
       "      <td>68571.782578</td>\n",
       "      <td>NaN</td>\n",
       "      <td>101.491986</td>\n",
       "      <td>0.674564</td>\n",
       "      <td>0.055749</td>\n",
       "      <td>1566.688765</td>\n",
       "      <td>4.032753</td>\n",
       "      <td>1072.314724</td>\n",
       "    </tr>\n",
       "    <tr>\n",
       "      <th>std</th>\n",
       "      <td>3608.732978</td>\n",
       "      <td>18.544948</td>\n",
       "      <td>37491.094553</td>\n",
       "      <td>NaN</td>\n",
       "      <td>14.981408</td>\n",
       "      <td>0.468701</td>\n",
       "      <td>0.229517</td>\n",
       "      <td>186.893360</td>\n",
       "      <td>0.952667</td>\n",
       "      <td>52.283038</td>\n",
       "    </tr>\n",
       "    <tr>\n",
       "      <th>min</th>\n",
       "      <td>4350.000000</td>\n",
       "      <td>1.000000</td>\n",
       "      <td>1.000000</td>\n",
       "      <td>NaN</td>\n",
       "      <td>69.000000</td>\n",
       "      <td>0.000000</td>\n",
       "      <td>0.000000</td>\n",
       "      <td>1300.000000</td>\n",
       "      <td>2.000000</td>\n",
       "      <td>1000.000000</td>\n",
       "    </tr>\n",
       "    <tr>\n",
       "      <th>25%</th>\n",
       "      <td>8450.000000</td>\n",
       "      <td>44.000000</td>\n",
       "      <td>43000.000000</td>\n",
       "      <td>NaN</td>\n",
       "      <td>90.000000</td>\n",
       "      <td>0.000000</td>\n",
       "      <td>0.000000</td>\n",
       "      <td>1400.000000</td>\n",
       "      <td>3.000000</td>\n",
       "      <td>1040.000000</td>\n",
       "    </tr>\n",
       "    <tr>\n",
       "      <th>50%</th>\n",
       "      <td>9900.000000</td>\n",
       "      <td>61.000000</td>\n",
       "      <td>63451.000000</td>\n",
       "      <td>NaN</td>\n",
       "      <td>110.000000</td>\n",
       "      <td>1.000000</td>\n",
       "      <td>0.000000</td>\n",
       "      <td>1600.000000</td>\n",
       "      <td>4.000000</td>\n",
       "      <td>1070.000000</td>\n",
       "    </tr>\n",
       "    <tr>\n",
       "      <th>75%</th>\n",
       "      <td>11950.000000</td>\n",
       "      <td>70.000000</td>\n",
       "      <td>87041.500000</td>\n",
       "      <td>NaN</td>\n",
       "      <td>110.000000</td>\n",
       "      <td>1.000000</td>\n",
       "      <td>0.000000</td>\n",
       "      <td>1600.000000</td>\n",
       "      <td>5.000000</td>\n",
       "      <td>1085.000000</td>\n",
       "    </tr>\n",
       "    <tr>\n",
       "      <th>max</th>\n",
       "      <td>32500.000000</td>\n",
       "      <td>80.000000</td>\n",
       "      <td>243000.000000</td>\n",
       "      <td>NaN</td>\n",
       "      <td>192.000000</td>\n",
       "      <td>1.000000</td>\n",
       "      <td>1.000000</td>\n",
       "      <td>2000.000000</td>\n",
       "      <td>5.000000</td>\n",
       "      <td>1615.000000</td>\n",
       "    </tr>\n",
       "  </tbody>\n",
       "</table>\n",
       "</div>"
      ],
      "text/plain": [
       "               Price          Age             KM FuelType           HP  \\\n",
       "count    1435.000000  1433.000000    1435.000000     1431  1435.000000   \n",
       "unique           NaN          NaN            NaN        3          NaN   \n",
       "top              NaN          NaN            NaN   Petrol          NaN   \n",
       "freq             NaN          NaN            NaN     1260          NaN   \n",
       "mean    10720.915679    56.020237   68571.782578      NaN   101.491986   \n",
       "std      3608.732978    18.544948   37491.094553      NaN    14.981408   \n",
       "min      4350.000000     1.000000       1.000000      NaN    69.000000   \n",
       "25%      8450.000000    44.000000   43000.000000      NaN    90.000000   \n",
       "50%      9900.000000    61.000000   63451.000000      NaN   110.000000   \n",
       "75%     11950.000000    70.000000   87041.500000      NaN   110.000000   \n",
       "max     32500.000000    80.000000  243000.000000      NaN   192.000000   \n",
       "\n",
       "           MetColor    Automatic           CC        Doors       Weight  \n",
       "count   1435.000000  1435.000000  1433.000000  1435.000000  1433.000000  \n",
       "unique          NaN          NaN          NaN          NaN          NaN  \n",
       "top             NaN          NaN          NaN          NaN          NaN  \n",
       "freq            NaN          NaN          NaN          NaN          NaN  \n",
       "mean       0.674564     0.055749  1566.688765     4.032753  1072.314724  \n",
       "std        0.468701     0.229517   186.893360     0.952667    52.283038  \n",
       "min        0.000000     0.000000  1300.000000     2.000000  1000.000000  \n",
       "25%        0.000000     0.000000  1400.000000     3.000000  1040.000000  \n",
       "50%        1.000000     0.000000  1600.000000     4.000000  1070.000000  \n",
       "75%        1.000000     0.000000  1600.000000     5.000000  1085.000000  \n",
       "max        1.000000     1.000000  2000.000000     5.000000  1615.000000  "
      ]
     },
     "execution_count": 4,
     "metadata": {},
     "output_type": "execute_result"
    }
   ],
   "source": [
    "# Looking at the descriptive statistics of the data\n",
    "CarPricesData.describe(include='all')"
   ]
  },
  {
   "cell_type": "code",
   "execution_count": 5,
   "id": "19309df5",
   "metadata": {},
   "outputs": [
    {
     "data": {
      "text/plain": [
       "Price         236\n",
       "Age            77\n",
       "KM           1263\n",
       "FuelType        3\n",
       "HP             12\n",
       "MetColor        2\n",
       "Automatic       2\n",
       "CC             12\n",
       "Doors           4\n",
       "Weight         59\n",
       "dtype: int64"
      ]
     },
     "execution_count": 5,
     "metadata": {},
     "output_type": "execute_result"
    }
   ],
   "source": [
    "# Finging unique values for each column\n",
    "# TO understand which column is categorical and which one is Continuous\n",
    "# Typically if the numer of unique values are < 20 then the variable is likely to be a category otherwise continuous\n",
    "CarPricesData.nunique()"
   ]
  },
  {
   "cell_type": "code",
   "execution_count": 6,
   "id": "4d5a3efb",
   "metadata": {},
   "outputs": [
    {
     "data": {
      "text/plain": [
       "112     1320.0\n",
       "138     1320.0\n",
       "115     1280.0\n",
       "119     1275.0\n",
       "68      1275.0\n",
       "         ...  \n",
       "927     1000.0\n",
       "1410    1000.0\n",
       "605     1000.0\n",
       "1021    1000.0\n",
       "957     1000.0\n",
       "Name: Weight, Length: 1428, dtype: float64"
      ]
     },
     "execution_count": 6,
     "metadata": {},
     "output_type": "execute_result"
    }
   ],
   "source": [
    "# Finding logical value near 1400\n",
    "CarPricesData['Weight'][CarPricesData['Weight']<1400].sort_values(ascending=False)"
   ]
  },
  {
   "cell_type": "markdown",
   "id": "09896e77",
   "metadata": {},
   "source": [
    "Based on the above output, the nearest logical value is 1320, hence, replacing any value greater than 1400 with it."
   ]
  },
  {
   "cell_type": "code",
   "execution_count": 7,
   "id": "682864be",
   "metadata": {},
   "outputs": [],
   "source": [
    "# Replacing outliers with nearest logical value\n",
    "CarPricesData['Weight'][CarPricesData['Weight']>1400]=1320"
   ]
  },
  {
   "cell_type": "code",
   "execution_count": 8,
   "id": "f42a5cbf",
   "metadata": {},
   "outputs": [
    {
     "data": {
      "text/plain": [
       "Price        0\n",
       "Age          2\n",
       "KM           0\n",
       "FuelType     4\n",
       "HP           0\n",
       "MetColor     0\n",
       "Automatic    0\n",
       "CC           2\n",
       "Doors        0\n",
       "Weight       2\n",
       "dtype: int64"
      ]
     },
     "execution_count": 8,
     "metadata": {},
     "output_type": "execute_result"
    }
   ],
   "source": [
    "# Finding how many missing values are there for each column\n",
    "CarPricesData.isnull().sum()"
   ]
  },
  {
   "cell_type": "markdown",
   "id": "268180c4",
   "metadata": {},
   "source": [
    "I am treating missing values with Median for Continuous values, and Mode for categorical values."
   ]
  },
  {
   "cell_type": "code",
   "execution_count": 9,
   "id": "42b3cecb",
   "metadata": {},
   "outputs": [],
   "source": [
    "# Treating missing values of categorical variable with MODE value\n",
    "CarPricesData['FuelType'].fillna(value=CarPricesData['FuelType'].mode()[0], inplace=True)\n",
    "CarPricesData['CC'].fillna(value=CarPricesData['CC'].mode()[0], inplace=True)"
   ]
  },
  {
   "cell_type": "code",
   "execution_count": 10,
   "id": "b59b8b21",
   "metadata": {},
   "outputs": [],
   "source": [
    "# Treating missing values of continuous variable with Median value\n",
    "CarPricesData['Weight'].fillna(value=CarPricesData['Weight'].median(), inplace=True)\n",
    "CarPricesData['Age'].fillna(value=CarPricesData['Age'].median(), inplace=True)"
   ]
  },
  {
   "cell_type": "code",
   "execution_count": 11,
   "id": "30cf0bc1",
   "metadata": {},
   "outputs": [
    {
     "data": {
      "text/plain": [
       "Price        0\n",
       "Age          0\n",
       "KM           0\n",
       "FuelType     0\n",
       "HP           0\n",
       "MetColor     0\n",
       "Automatic    0\n",
       "CC           0\n",
       "Doors        0\n",
       "Weight       0\n",
       "dtype: int64"
      ]
     },
     "execution_count": 11,
     "metadata": {},
     "output_type": "execute_result"
    }
   ],
   "source": [
    "# Checking missing values again after the treatment\n",
    "CarPricesData.isnull().sum()"
   ]
  },
  {
   "cell_type": "code",
   "execution_count": 12,
   "id": "3acbd327",
   "metadata": {},
   "outputs": [
    {
     "data": {
      "text/html": [
       "<div>\n",
       "<style scoped>\n",
       "    .dataframe tbody tr th:only-of-type {\n",
       "        vertical-align: middle;\n",
       "    }\n",
       "\n",
       "    .dataframe tbody tr th {\n",
       "        vertical-align: top;\n",
       "    }\n",
       "\n",
       "    .dataframe thead th {\n",
       "        text-align: right;\n",
       "    }\n",
       "</style>\n",
       "<table border=\"1\" class=\"dataframe\">\n",
       "  <thead>\n",
       "    <tr style=\"text-align: right;\">\n",
       "      <th></th>\n",
       "      <th>Price</th>\n",
       "      <th>Age</th>\n",
       "      <th>KM</th>\n",
       "      <th>Weight</th>\n",
       "    </tr>\n",
       "  </thead>\n",
       "  <tbody>\n",
       "    <tr>\n",
       "      <th>Price</th>\n",
       "      <td>1.000000</td>\n",
       "      <td>-0.874196</td>\n",
       "      <td>-0.569420</td>\n",
       "      <td>0.589002</td>\n",
       "    </tr>\n",
       "    <tr>\n",
       "      <th>Age</th>\n",
       "      <td>-0.874196</td>\n",
       "      <td>1.000000</td>\n",
       "      <td>0.502604</td>\n",
       "      <td>-0.488324</td>\n",
       "    </tr>\n",
       "    <tr>\n",
       "      <th>KM</th>\n",
       "      <td>-0.569420</td>\n",
       "      <td>0.502604</td>\n",
       "      <td>1.000000</td>\n",
       "      <td>-0.013607</td>\n",
       "    </tr>\n",
       "    <tr>\n",
       "      <th>Weight</th>\n",
       "      <td>0.589002</td>\n",
       "      <td>-0.488324</td>\n",
       "      <td>-0.013607</td>\n",
       "      <td>1.000000</td>\n",
       "    </tr>\n",
       "  </tbody>\n",
       "</table>\n",
       "</div>"
      ],
      "text/plain": [
       "           Price       Age        KM    Weight\n",
       "Price   1.000000 -0.874196 -0.569420  0.589002\n",
       "Age    -0.874196  1.000000  0.502604 -0.488324\n",
       "KM     -0.569420  0.502604  1.000000 -0.013607\n",
       "Weight  0.589002 -0.488324 -0.013607  1.000000"
      ]
     },
     "execution_count": 12,
     "metadata": {},
     "output_type": "execute_result"
    }
   ],
   "source": [
    "# Calculating correlation matrix\n",
    "ContinuousCols=['Price','Age','KM','Weight']\n",
    "\n",
    "# Creating the correlation matrix\n",
    "CorrelationData=CarPricesData[ContinuousCols].corr()\n",
    "CorrelationData"
   ]
  },
  {
   "cell_type": "code",
   "execution_count": 13,
   "id": "2a3bb46c",
   "metadata": {},
   "outputs": [
    {
     "data": {
      "text/plain": [
       "Price     1.000000\n",
       "Age      -0.874196\n",
       "KM       -0.569420\n",
       "Weight    0.589002\n",
       "Name: Price, dtype: float64"
      ]
     },
     "execution_count": 13,
     "metadata": {},
     "output_type": "execute_result"
    }
   ],
   "source": [
    "# Filtering only those columns where absolute correlation > 0.5 with Target Variable\n",
    "# reduce the 0.5 threshold if no variable is selected\n",
    "CorrelationData['Price'][abs(CorrelationData['Price']) > 0.5 ]"
   ]
  },
  {
   "cell_type": "code",
   "execution_count": 14,
   "id": "c9b85404",
   "metadata": {},
   "outputs": [],
   "source": [
    "# Defining a function to find the statistical relationship with all the categorical variables\n",
    "def FunctionAnova(inpData, TargetVariable, CategoricalPredictorList):\n",
    "    from scipy.stats import f_oneway\n",
    "\n",
    "    # Creating an empty list of final selected predictors\n",
    "    SelectedPredictors=[]\n",
    "    \n",
    "    print('##### ANOVA Results ##### \\n')\n",
    "    for predictor in CategoricalPredictorList:\n",
    "        CategoryGroupLists=inpData.groupby(predictor)[TargetVariable].apply(list)\n",
    "        AnovaResults = f_oneway(*CategoryGroupLists)\n",
    "        \n",
    "        # If the ANOVA P-Value is <0.05, that means we reject H0\n",
    "        if (AnovaResults[1] < 0.05):\n",
    "            print(predictor, 'is correlated with', TargetVariable, '| P-Value:', AnovaResults[1])\n",
    "            SelectedPredictors.append(predictor)\n",
    "        else:\n",
    "            print(predictor, 'is NOT correlated with', TargetVariable, '| P-Value:', AnovaResults[1])\n",
    "    \n",
    "    return(SelectedPredictors)"
   ]
  },
  {
   "cell_type": "code",
   "execution_count": 15,
   "id": "dc68ac9f",
   "metadata": {},
   "outputs": [
    {
     "name": "stdout",
     "output_type": "stream",
     "text": [
      "##### ANOVA Results ##### \n",
      "\n",
      "FuelType is NOT correlated with Price | P-Value: 0.07590511356326429\n",
      "HP is correlated with Price | P-Value: 4.403061434008212e-109\n",
      "MetColor is correlated with Price | P-Value: 4.4173957971674025e-05\n",
      "Automatic is NOT correlated with Price | P-Value: 0.19897717506836016\n",
      "CC is correlated with Price | P-Value: 2.566835080246702e-47\n",
      "Doors is correlated with Price | P-Value: 9.51180734144394e-13\n"
     ]
    },
    {
     "data": {
      "text/plain": [
       "['HP', 'MetColor', 'CC', 'Doors']"
      ]
     },
     "execution_count": 15,
     "metadata": {},
     "output_type": "execute_result"
    }
   ],
   "source": [
    "# Calling the function to check which categorical variables are correlated with target\n",
    "# Calling the function to check which categorical variables are correlated with target\n",
    "CategoricalPredictorList=['FuelType', 'HP', 'MetColor', 'Automatic', 'CC', 'Doors']\n",
    "FunctionAnova(inpData=CarPricesData, \n",
    "              TargetVariable='Price', \n",
    "              CategoricalPredictorList=CategoricalPredictorList)"
   ]
  },
  {
   "cell_type": "markdown",
   "id": "85a3ad1b",
   "metadata": {},
   "source": [
    "The results of ANOVA confirm our visual analysis using box plots above.\n",
    "\n",
    "All categorical variables are correlated with the Target variable except \"FuelType\" and \"Automatic\". This is something we guessed by looking at the box plots!\n",
    "\n",
    "Final selected Categorical columns:\n",
    "\n",
    "'HP', 'MetColor', 'CC', 'Doors'"
   ]
  },
  {
   "cell_type": "markdown",
   "id": "a22056f1",
   "metadata": {},
   "source": [
    "# Selecting final predictors for Machine Learning"
   ]
  },
  {
   "cell_type": "markdown",
   "id": "f969b982",
   "metadata": {},
   "source": [
    "Based on the above tests, selecting the final columns for machine learning"
   ]
  },
  {
   "cell_type": "code",
   "execution_count": 16,
   "id": "8e33d192",
   "metadata": {},
   "outputs": [
    {
     "data": {
      "text/html": [
       "<div>\n",
       "<style scoped>\n",
       "    .dataframe tbody tr th:only-of-type {\n",
       "        vertical-align: middle;\n",
       "    }\n",
       "\n",
       "    .dataframe tbody tr th {\n",
       "        vertical-align: top;\n",
       "    }\n",
       "\n",
       "    .dataframe thead th {\n",
       "        text-align: right;\n",
       "    }\n",
       "</style>\n",
       "<table border=\"1\" class=\"dataframe\">\n",
       "  <thead>\n",
       "    <tr style=\"text-align: right;\">\n",
       "      <th></th>\n",
       "      <th>Age</th>\n",
       "      <th>KM</th>\n",
       "      <th>Weight</th>\n",
       "      <th>HP</th>\n",
       "      <th>MetColor</th>\n",
       "      <th>CC</th>\n",
       "      <th>Doors</th>\n",
       "    </tr>\n",
       "  </thead>\n",
       "  <tbody>\n",
       "    <tr>\n",
       "      <th>0</th>\n",
       "      <td>23.0</td>\n",
       "      <td>46986</td>\n",
       "      <td>1165.0</td>\n",
       "      <td>90</td>\n",
       "      <td>1</td>\n",
       "      <td>2000.0</td>\n",
       "      <td>3</td>\n",
       "    </tr>\n",
       "    <tr>\n",
       "      <th>1</th>\n",
       "      <td>23.0</td>\n",
       "      <td>72937</td>\n",
       "      <td>1165.0</td>\n",
       "      <td>90</td>\n",
       "      <td>1</td>\n",
       "      <td>2000.0</td>\n",
       "      <td>3</td>\n",
       "    </tr>\n",
       "    <tr>\n",
       "      <th>2</th>\n",
       "      <td>24.0</td>\n",
       "      <td>41711</td>\n",
       "      <td>1165.0</td>\n",
       "      <td>90</td>\n",
       "      <td>1</td>\n",
       "      <td>2000.0</td>\n",
       "      <td>3</td>\n",
       "    </tr>\n",
       "    <tr>\n",
       "      <th>3</th>\n",
       "      <td>26.0</td>\n",
       "      <td>48000</td>\n",
       "      <td>1165.0</td>\n",
       "      <td>90</td>\n",
       "      <td>0</td>\n",
       "      <td>2000.0</td>\n",
       "      <td>3</td>\n",
       "    </tr>\n",
       "    <tr>\n",
       "      <th>4</th>\n",
       "      <td>30.0</td>\n",
       "      <td>38500</td>\n",
       "      <td>1170.0</td>\n",
       "      <td>90</td>\n",
       "      <td>0</td>\n",
       "      <td>2000.0</td>\n",
       "      <td>3</td>\n",
       "    </tr>\n",
       "  </tbody>\n",
       "</table>\n",
       "</div>"
      ],
      "text/plain": [
       "    Age     KM  Weight  HP  MetColor      CC  Doors\n",
       "0  23.0  46986  1165.0  90         1  2000.0      3\n",
       "1  23.0  72937  1165.0  90         1  2000.0      3\n",
       "2  24.0  41711  1165.0  90         1  2000.0      3\n",
       "3  26.0  48000  1165.0  90         0  2000.0      3\n",
       "4  30.0  38500  1170.0  90         0  2000.0      3"
      ]
     },
     "execution_count": 16,
     "metadata": {},
     "output_type": "execute_result"
    }
   ],
   "source": [
    "SelectedColumns=['Age','KM','Weight','HP', 'MetColor', 'CC', 'Doors']\n",
    "\n",
    "# Selecting final columns\n",
    "DataForML=CarPricesData[SelectedColumns]\n",
    "DataForML.head()"
   ]
  },
  {
   "cell_type": "code",
   "execution_count": 17,
   "id": "553139e8",
   "metadata": {},
   "outputs": [],
   "source": [
    "# Saving this final data for reference during deployment\n",
    "DataForML.to_pickle('DataForML.pkl')"
   ]
  },
  {
   "cell_type": "markdown",
   "id": "aea30076",
   "metadata": {},
   "source": [
    "# Data Pre-processing for Machine Learning"
   ]
  },
  {
   "cell_type": "markdown",
   "id": "54527988",
   "metadata": {},
   "source": [
    "List of steps performed on predictor variables before data can be used for machine learning\n",
    "\n",
    "Converting each Ordinal Categorical columns to numeric\n",
    "\n",
    "Converting Binary nominal Categorical columns to numeric using 1/0 mapping\n",
    "\n",
    "Converting all other nominal categorical columns to numeric using pd.get_dummies()\n",
    "\n",
    "Data Transformation (Optional): Standardization/Normalization/log/sqrt. Important if you are using distance based algorithms like KNN, or Neural Networks\n",
    "In this data there is no Ordinal categorical variable which is in string format."
   ]
  },
  {
   "cell_type": "markdown",
   "id": "f898636e",
   "metadata": {},
   "source": [
    "In this data there is no Ordinal categorical variable which is in string format."
   ]
  },
  {
   "cell_type": "markdown",
   "id": "d84b6fbd",
   "metadata": {},
   "source": [
    "# Converting the binary nominal variable to numeric using 1/0 mapping"
   ]
  },
  {
   "cell_type": "markdown",
   "id": "b5451fda",
   "metadata": {},
   "source": [
    "There is no binary nominal variable in string format to be converted"
   ]
  },
  {
   "cell_type": "markdown",
   "id": "85f898a3",
   "metadata": {},
   "source": [
    "# Converting the nominal variable to numeric using get_dummies()"
   ]
  },
  {
   "cell_type": "code",
   "execution_count": 18,
   "id": "5da38b1a",
   "metadata": {},
   "outputs": [
    {
     "data": {
      "text/html": [
       "<div>\n",
       "<style scoped>\n",
       "    .dataframe tbody tr th:only-of-type {\n",
       "        vertical-align: middle;\n",
       "    }\n",
       "\n",
       "    .dataframe tbody tr th {\n",
       "        vertical-align: top;\n",
       "    }\n",
       "\n",
       "    .dataframe thead th {\n",
       "        text-align: right;\n",
       "    }\n",
       "</style>\n",
       "<table border=\"1\" class=\"dataframe\">\n",
       "  <thead>\n",
       "    <tr style=\"text-align: right;\">\n",
       "      <th></th>\n",
       "      <th>Age</th>\n",
       "      <th>KM</th>\n",
       "      <th>Weight</th>\n",
       "      <th>HP</th>\n",
       "      <th>MetColor</th>\n",
       "      <th>CC</th>\n",
       "      <th>Doors</th>\n",
       "      <th>Price</th>\n",
       "    </tr>\n",
       "  </thead>\n",
       "  <tbody>\n",
       "    <tr>\n",
       "      <th>0</th>\n",
       "      <td>23.0</td>\n",
       "      <td>46986</td>\n",
       "      <td>1165.0</td>\n",
       "      <td>90</td>\n",
       "      <td>1</td>\n",
       "      <td>2000.0</td>\n",
       "      <td>3</td>\n",
       "      <td>13500</td>\n",
       "    </tr>\n",
       "    <tr>\n",
       "      <th>1</th>\n",
       "      <td>23.0</td>\n",
       "      <td>72937</td>\n",
       "      <td>1165.0</td>\n",
       "      <td>90</td>\n",
       "      <td>1</td>\n",
       "      <td>2000.0</td>\n",
       "      <td>3</td>\n",
       "      <td>13750</td>\n",
       "    </tr>\n",
       "    <tr>\n",
       "      <th>2</th>\n",
       "      <td>24.0</td>\n",
       "      <td>41711</td>\n",
       "      <td>1165.0</td>\n",
       "      <td>90</td>\n",
       "      <td>1</td>\n",
       "      <td>2000.0</td>\n",
       "      <td>3</td>\n",
       "      <td>13950</td>\n",
       "    </tr>\n",
       "    <tr>\n",
       "      <th>3</th>\n",
       "      <td>26.0</td>\n",
       "      <td>48000</td>\n",
       "      <td>1165.0</td>\n",
       "      <td>90</td>\n",
       "      <td>0</td>\n",
       "      <td>2000.0</td>\n",
       "      <td>3</td>\n",
       "      <td>14950</td>\n",
       "    </tr>\n",
       "    <tr>\n",
       "      <th>4</th>\n",
       "      <td>30.0</td>\n",
       "      <td>38500</td>\n",
       "      <td>1170.0</td>\n",
       "      <td>90</td>\n",
       "      <td>0</td>\n",
       "      <td>2000.0</td>\n",
       "      <td>3</td>\n",
       "      <td>13750</td>\n",
       "    </tr>\n",
       "  </tbody>\n",
       "</table>\n",
       "</div>"
      ],
      "text/plain": [
       "    Age     KM  Weight  HP  MetColor      CC  Doors  Price\n",
       "0  23.0  46986  1165.0  90         1  2000.0      3  13500\n",
       "1  23.0  72937  1165.0  90         1  2000.0      3  13750\n",
       "2  24.0  41711  1165.0  90         1  2000.0      3  13950\n",
       "3  26.0  48000  1165.0  90         0  2000.0      3  14950\n",
       "4  30.0  38500  1170.0  90         0  2000.0      3  13750"
      ]
     },
     "execution_count": 18,
     "metadata": {},
     "output_type": "execute_result"
    }
   ],
   "source": [
    "# Treating all the nominal variables at once using dummy variables\n",
    "DataForML_Numeric=pd.get_dummies(DataForML)\n",
    "\n",
    "# Adding Target Variable to the data\n",
    "DataForML_Numeric['Price']=CarPricesData['Price']\n",
    "\n",
    "# Printing sample rows\n",
    "DataForML_Numeric.head()"
   ]
  },
  {
   "cell_type": "markdown",
   "id": "85a9dd97",
   "metadata": {},
   "source": [
    "# Machine Learning: Splitting the data into Training and Testing sample"
   ]
  },
  {
   "cell_type": "markdown",
   "id": "7262d15e",
   "metadata": {},
   "source": [
    "\n",
    "We dont use the full data for creating the model. Some data is randomly selected and kept aside for checking how good the model is. This is known as Testing Data and the remaining data is called Training data on which the model is built. Typically 70% of data is used as Training data and the rest 30% is used as Tesing data."
   ]
  },
  {
   "cell_type": "code",
   "execution_count": 19,
   "id": "01f8c6cb",
   "metadata": {},
   "outputs": [
    {
     "data": {
      "text/plain": [
       "Index(['Age', 'KM', 'Weight', 'HP', 'MetColor', 'CC', 'Doors', 'Price'], dtype='object')"
      ]
     },
     "execution_count": 19,
     "metadata": {},
     "output_type": "execute_result"
    }
   ],
   "source": [
    "# Printing all the column names for our reference\n",
    "DataForML_Numeric.columns"
   ]
  },
  {
   "cell_type": "code",
   "execution_count": 20,
   "id": "2887c34a",
   "metadata": {},
   "outputs": [],
   "source": [
    "# Separate Target Variable and Predictor Variables\n",
    "TargetVariable='Price'\n",
    "Predictors=['Age', 'KM', 'Weight', 'HP', 'MetColor', 'CC', 'Doors']\n",
    "\n",
    "X=DataForML_Numeric[Predictors].values\n",
    "y=DataForML_Numeric[TargetVariable].values\n",
    "\n",
    "# Split the data into training and testing set\n",
    "from sklearn.model_selection import train_test_split\n",
    "X_train, X_test, y_train, y_test = train_test_split(X, y, test_size=0.3, random_state=428)"
   ]
  },
  {
   "cell_type": "markdown",
   "id": "beb5a8ff",
   "metadata": {},
   "source": [
    "# Standardization/Normalization of data"
   ]
  },
  {
   "cell_type": "markdown",
   "id": "5b0af1a4",
   "metadata": {},
   "source": [
    "\n",
    "You can choose not to run this step if you want to compare the resultant accuracy of this transformation with the accuracy of raw data.\n",
    "\n",
    "However, if you are using KNN or Neural Networks, then this step becomes necessary."
   ]
  },
  {
   "cell_type": "code",
   "execution_count": 21,
   "id": "c7af00eb",
   "metadata": {},
   "outputs": [
    {
     "name": "stdout",
     "output_type": "stream",
     "text": [
      "(1004, 7)\n",
      "(1004,)\n",
      "(431, 7)\n",
      "(431,)\n"
     ]
    }
   ],
   "source": [
    "# Sanity check for the sampled data\n",
    "print(X_train.shape)\n",
    "print(y_train.shape)\n",
    "print(X_test.shape)\n",
    "print(y_test.shape)"
   ]
  },
  {
   "cell_type": "markdown",
   "id": "a7f9970f",
   "metadata": {},
   "source": [
    "# Multiple Linear Regression"
   ]
  },
  {
   "cell_type": "code",
   "execution_count": 22,
   "id": "3b1cc65c",
   "metadata": {},
   "outputs": [
    {
     "name": "stdout",
     "output_type": "stream",
     "text": [
      "LinearRegression()\n",
      "R2 Value: 0.8684716411934622\n",
      "\n",
      "##### Model Validation and Accuracy Calculations ##########\n",
      "   Price  PredictedPrice\n",
      "0  11900         11920.0\n",
      "1   8500          8418.0\n",
      "2  24500         18436.0\n",
      "3  11750         11276.0\n",
      "4  13750         13860.0\n",
      "Mean Accuracy on test data: 90.305549369233\n",
      "Median Accuracy on test data: 92.21879815100154\n",
      "\n",
      "Accuracy values for 10-fold Cross Validation:\n",
      " [90.06952395 89.67528946 88.80930703 91.98201782 89.29521126 91.81534649\n",
      " 91.03912263 87.66514203 90.45440946 88.48621601]\n",
      "\n",
      "Final Average Accuracy of the model: 89.93\n"
     ]
    }
   ],
   "source": [
    "# Multiple Linear Regression\n",
    "from sklearn.linear_model import LinearRegression\n",
    "RegModel = LinearRegression()\n",
    "\n",
    "# Printing all the parameters of Linear regression\n",
    "print(RegModel)\n",
    "\n",
    "# Creating the model on Training Data\n",
    "LREG=RegModel.fit(X_train,y_train)\n",
    "prediction=LREG.predict(X_test)\n",
    "\n",
    "# Taking the standardized values to original scale\n",
    "\n",
    "\n",
    "from sklearn import metrics\n",
    "# Measuring Goodness of fit in Training data\n",
    "print('R2 Value:',metrics.r2_score(y_train, LREG.predict(X_train)))\n",
    "\n",
    "###########################################################################\n",
    "print('\\n##### Model Validation and Accuracy Calculations ##########')\n",
    "\n",
    "# Printing some sample values of prediction\n",
    "TestingDataResults=pd.DataFrame(data=X_test, columns=Predictors)\n",
    "TestingDataResults[TargetVariable]=y_test\n",
    "TestingDataResults[('Predicted'+TargetVariable)]=np.round(prediction)\n",
    "\n",
    "# Printing sample prediction values\n",
    "print(TestingDataResults[[TargetVariable,'Predicted'+TargetVariable]].head())\n",
    "\n",
    "# Calculating the error for each row\n",
    "TestingDataResults['APE']=100 * ((abs(\n",
    "  TestingDataResults['Price']-TestingDataResults['PredictedPrice']))/TestingDataResults['Price'])\n",
    "\n",
    "MAPE=np.mean(TestingDataResults['APE'])\n",
    "MedianMAPE=np.median(TestingDataResults['APE'])\n",
    "\n",
    "Accuracy =100 - MAPE\n",
    "MedianAccuracy=100- MedianMAPE\n",
    "print('Mean Accuracy on test data:', Accuracy) # Can be negative sometimes due to outlier\n",
    "print('Median Accuracy on test data:', MedianAccuracy)\n",
    "\n",
    "\n",
    "# Defining a custom function to calculate accuracy\n",
    "# Make sure there are no zeros in the Target variable if you are using MAPE\n",
    "def Accuracy_Score(orig,pred):\n",
    "    MAPE = np.mean(100 * (np.abs(orig-pred)/orig))\n",
    "    #print('#'*70,'Accuracy:', 100-MAPE)\n",
    "    return(100-MAPE)\n",
    "\n",
    "# Custom Scoring MAPE calculation\n",
    "from sklearn.metrics import make_scorer\n",
    "custom_Scoring=make_scorer(Accuracy_Score, greater_is_better=True)\n",
    "\n",
    "# Importing cross validation function from sklearn\n",
    "from sklearn.model_selection import cross_val_score\n",
    "\n",
    "# Running 10-Fold Cross validation on a given algorithm\n",
    "# Passing full data X and y because the K-fold will split the data and automatically choose train/test\n",
    "Accuracy_Values=cross_val_score(RegModel, X , y, cv=10, scoring=custom_Scoring)\n",
    "print('\\nAccuracy values for 10-fold Cross Validation:\\n',Accuracy_Values)\n",
    "print('\\nFinal Average Accuracy of the model:', round(Accuracy_Values.mean(),2))"
   ]
  }
 ],
 "metadata": {
  "kernelspec": {
   "display_name": "Python 3.10.4 64-bit",
   "language": "python",
   "name": "python3"
  },
  "language_info": {
   "codemirror_mode": {
    "name": "ipython",
    "version": 3
   },
   "file_extension": ".py",
   "mimetype": "text/x-python",
   "name": "python",
   "nbconvert_exporter": "python",
   "pygments_lexer": "ipython3",
   "version": "3.10.4"
  },
  "vscode": {
   "interpreter": {
    "hash": "b82ec04e5fe250f57a3d8ac0fefb38fe092148ca32bf281ae1b1eac49df90417"
   }
  }
 },
 "nbformat": 4,
 "nbformat_minor": 5
}
